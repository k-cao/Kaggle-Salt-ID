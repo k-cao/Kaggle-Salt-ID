{
 "cells": [
  {
   "cell_type": "code",
   "execution_count": 73,
   "metadata": {},
   "outputs": [],
   "source": [
    "import os\n",
    "import numpy as np\n",
    "import cv2\n",
    "from tqdm import tqdm\n",
    "from keras.preprocessing import image\n",
    "from keras.models import Model, Sequential\n",
    "from keras.layers import Conv2D, MaxPooling2D, Flatten, Dropout, Dense, Input, Concatenate\n",
    "from keras.optimizers import RMSprop\n",
    "from skimage.io import imread, imshow\n",
    "from skimage.transform import resize\n",
    "from sklearn.model_selection import train_test_split"
   ]
  },
  {
   "cell_type": "code",
   "execution_count": 53,
   "metadata": {},
   "outputs": [],
   "source": [
    "root_path = \"<kaggle dir here>\"\n",
    "img_path = root_path + \"images/\"\n",
    "mask_path = root_path + \"masks/\""
   ]
  },
  {
   "cell_type": "code",
   "execution_count": 71,
   "metadata": {},
   "outputs": [],
   "source": [
    "train_fns = os.listdir(img_path)"
   ]
  },
  {
   "cell_type": "code",
   "execution_count": 74,
   "metadata": {},
   "outputs": [
    {
     "name": "stderr",
     "output_type": "stream",
     "text": [
      "100%|██████████| 4000/4000 [00:03<00:00, 1195.43it/s]\n"
     ]
    }
   ],
   "source": [
    "train_imgs = [np.array(cv2.imread(img_path + p, cv2.IMREAD_GRAYSCALE), dtype=np.uint8) for p in tqdm(train_fns)]\n",
    "train_imgs = np.array(train_imgs)/255\n",
    "train_imgs = np.expand_dims(train_imgs, axis=3)"
   ]
  },
  {
   "cell_type": "code",
   "execution_count": 75,
   "metadata": {},
   "outputs": [
    {
     "name": "stderr",
     "output_type": "stream",
     "text": [
      "100%|██████████| 4000/4000 [00:01<00:00, 3071.84it/s]\n"
     ]
    }
   ],
   "source": [
    "train_masks = [np.array(cv2.imread(mask_path + p, cv2.IMREAD_GRAYSCALE), dtype=np.uint8) for p in tqdm(train_fns)]\n",
    "train_masks = np.array(train_masks)/255\n",
    "train_masks = np.expand_dims(train_masks, axis=3)"
   ]
  },
  {
   "cell_type": "code",
   "execution_count": 76,
   "metadata": {},
   "outputs": [],
   "source": [
    "X_train, X_val, y_train, y_val = train_test_split(\n",
    "    train_imgs,\n",
    "    train_masks,\n",
    "    test_size=0.2)"
   ]
  },
  {
   "cell_type": "code",
   "execution_count": 77,
   "metadata": {},
   "outputs": [],
   "source": [
    "def conv_block(num_layers, input_layer, units, kernel_size):\n",
    "    x = input_layer\n",
    "    for i in range(num_layers):\n",
    "        x = Conv2D(units, kernel_size=kernel_size, padding='SAME',activation='relu')(x)\n",
    "    return x"
   ]
  },
  {
   "cell_type": "code",
   "execution_count": 78,
   "metadata": {},
   "outputs": [],
   "source": [
    "def build_model( input_layer ):\n",
    "    cnn1 = conv_block(4, input_layer, 32, 3)\n",
    "    cnn2 = conv_block(4, input_layer, 24, 5)\n",
    "    cnn3 = conv_block(4, input_layer, 16, 7)\n",
    "    concat_layers = Concatenate()([cnn1,cnn2,cnn3])\n",
    "    dl_layer = Conv2D(16, 1, activation='relu')(concat_layers)\n",
    "    output_layer = Conv2D(1,1, activation='sigmoid')(dl_layer)\n",
    "    return output_layer"
   ]
  },
  {
   "cell_type": "code",
   "execution_count": 79,
   "metadata": {},
   "outputs": [],
   "source": [
    "input_layer = Input( (101, 101, 1) )\n",
    "output_layer = build_model( input_layer )\n",
    "model = Model(input_layer, output_layer)\n",
    "model.compile( loss='binary_crossentropy', optimizer='adam',metrics=['accuracy'] )"
   ]
  },
  {
   "cell_type": "code",
   "execution_count": 80,
   "metadata": {},
   "outputs": [
    {
     "name": "stdout",
     "output_type": "stream",
     "text": [
      "Train on 3200 samples, validate on 800 samples\n",
      "Epoch 1/3\n",
      "3200/3200 [==============================] - 1185s 370ms/step - loss: 0.5459 - acc: 0.7530 - val_loss: 0.5125 - val_acc: 0.7480\n",
      "Epoch 2/3\n",
      "3200/3200 [==============================] - 1038s 324ms/step - loss: 0.4889 - acc: 0.7547 - val_loss: 0.4682 - val_acc: 0.7480\n",
      "Epoch 3/3\n",
      "3200/3200 [==============================] - 1094s 342ms/step - loss: 0.4681 - acc: 0.7782 - val_loss: 0.4698 - val_acc: 0.8047\n"
     ]
    },
    {
     "data": {
      "text/plain": [
       "<keras.callbacks.History at 0x14fa8c1d0>"
      ]
     },
     "execution_count": 80,
     "metadata": {},
     "output_type": "execute_result"
    }
   ],
   "source": [
    "model.fit(X_train, y_train, validation_data=[X_val, y_val], epochs = 3, batch_size = 32)"
   ]
  },
  {
   "cell_type": "code",
   "execution_count": 81,
   "metadata": {},
   "outputs": [],
   "source": [
    "model.save('salt_model')"
   ]
  },
  {
   "cell_type": "code",
   "execution_count": null,
   "metadata": {},
   "outputs": [],
   "source": []
  }
 ],
 "metadata": {
  "kernelspec": {
   "display_name": "Python 3",
   "language": "python",
   "name": "python3"
  },
  "language_info": {
   "codemirror_mode": {
    "name": "ipython",
    "version": 3
   },
   "file_extension": ".py",
   "mimetype": "text/x-python",
   "name": "python",
   "nbconvert_exporter": "python",
   "pygments_lexer": "ipython3",
   "version": "3.6.5"
  }
 },
 "nbformat": 4,
 "nbformat_minor": 2
}
